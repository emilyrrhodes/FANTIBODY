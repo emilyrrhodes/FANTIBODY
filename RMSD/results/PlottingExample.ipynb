{
 "cells": [
  {
   "cell_type": "code",
   "execution_count": 1,
   "metadata": {},
   "outputs": [
    {
     "name": "stderr",
     "output_type": "stream",
     "text": [
      "<ipython-input-1-dfe8acc9d3f0>:6: MatplotlibDeprecationWarning: \n",
      "The mpl_toolkits.axes_grid module was deprecated in Matplotlib 2.1 and will be removed two minor releases later. Use mpl_toolkits.axes_grid1 and mpl_toolkits.axisartist, which provide the same functionality instead.\n",
      "  from mpl_toolkits.axes_grid.inset_locator import inset_axes\n"
     ]
    }
   ],
   "source": [
    "import matplotlib.pyplot as plt\n",
    "from matplotlib import cm\n",
    "import re\n",
    "import numpy as np\n",
    "import pandas as pd\n",
    "from mpl_toolkits.axes_grid.inset_locator import inset_axes"
   ]
  },
  {
   "cell_type": "code",
   "execution_count": 2,
   "metadata": {},
   "outputs": [],
   "source": [
    "file1=\"ate323_A55W_npt_prod_rmsd.xvg\"\n",
    "file2=\"dar323_control_npt_prod_rmsd.xvg\""
   ]
  },
  {
   "cell_type": "code",
   "execution_count": 3,
   "metadata": {},
   "outputs": [],
   "source": [
    "#reading in the files - a bit hard \n",
    "name=file1\n",
    "with open(name, 'r') as file:\n",
    "    title = \"\"\n",
    "    xyaxis_labels = list()\n",
    "    data_x = list()\n",
    "    data_y = list()\n",
    "\n",
    "    for line in file:\n",
    "        if line.find(\"@\") != -1:\n",
    "\n",
    "            # Extracts the title\n",
    "            if re.match(\"title\", line.split()[1]):\n",
    "                title = line.split()[2].strip('\\\"')\n",
    "\n",
    "            # Extracts the legends for the axes\n",
    "            if len(line.split()) > 3:\n",
    "                if re.match(\"label\", line.split()[2]):\n",
    "                    xyaxis_labels.append(line.split('\"')[1])\n",
    "\n",
    "        if not line.startswith(\"@\") and not line.startswith(\"#\"):\n",
    "                              data_x.append(float(line.split()[0]))\n",
    "                              data_y.append(float(line.split()[1]))"
   ]
  },
  {
   "cell_type": "markdown",
   "metadata": {},
   "source": [
    "Goal: plot the rmsd data for each file, format the graph\n",
    "1. Format the graph: \n",
    "    1. Whole screen size\n",
    "    2. Be able to change the axis \n",
    "    3. Change the colors of the lines \n",
    "    4. Include a legend for the plot\n",
    "    5. Include a title for the plot \n",
    "    6. Plot all data on one graph - challenge \n",
    "2. Find something interesting in the data\n",
    "    1. Differences in curves? - Subtracting the data \n",
    "    2. Average the end of "
   ]
  },
  {
   "cell_type": "code",
   "execution_count": null,
   "metadata": {},
   "outputs": [],
   "source": []
  }
 ],
 "metadata": {
  "kernelspec": {
   "display_name": "Python 3",
   "language": "python",
   "name": "python3"
  },
  "language_info": {
   "codemirror_mode": {
    "name": "ipython",
    "version": 3
   },
   "file_extension": ".py",
   "mimetype": "text/x-python",
   "name": "python",
   "nbconvert_exporter": "python",
   "pygments_lexer": "ipython3",
   "version": "3.8.5"
  }
 },
 "nbformat": 4,
 "nbformat_minor": 4
}
