{
 "cells": [
  {
   "cell_type": "code",
   "execution_count": 1,
   "metadata": {},
   "outputs": [
    {
     "name": "stderr",
     "output_type": "stream",
     "text": [
      "<ipython-input-1-dfe8acc9d3f0>:6: MatplotlibDeprecationWarning: \n",
      "The mpl_toolkits.axes_grid module was deprecated in Matplotlib 2.1 and will be removed two minor releases later. Use mpl_toolkits.axes_grid1 and mpl_toolkits.axisartist, which provide the same functionality instead.\n",
      "  from mpl_toolkits.axes_grid.inset_locator import inset_axes\n"
     ]
    }
   ],
   "source": [
    "import matplotlib.pyplot as plt\n",
    "from matplotlib import cm\n",
    "import re\n",
    "import numpy as np\n",
    "import pandas as pd\n",
    "from mpl_toolkits.axes_grid.inset_locator import inset_axes"
   ]
  },
  {
   "cell_type": "code",
   "execution_count": 2,
   "metadata": {},
   "outputs": [],
   "source": [
    "files = ['ate323_control_npt_prod_rmsd.xvg',\n",
    "'ate323_S54A_npt_prod_rmsd.xvg',\n",
    "'oma366_control_npt_prod_rmsd.xvg',\n",
    "'oma366_S54A_npt_prod_rmsd.xvg',\n",
    "'per323_control_npt_prod_rmsd.xvg',\n",
    "'per323_S54A_npt_prod_rmsd.xvg',\n",
    "'tra366_S54A_npt_prod_rmsd.xvg',\n",
    "'tra366_control_npt_prod_rmsd.xvg']"
   ]
  },
  {
   "cell_type": "code",
   "execution_count": 3,
   "metadata": {},
   "outputs": [],
   "source": [
    "colors = cm.get_cmap('magma', 12)"
   ]
  },
  {
   "cell_type": "code",
   "execution_count": 4,
   "metadata": {},
   "outputs": [],
   "source": [
    "#Raw data\n",
    "mutations = ('S40D', 'S54A', 'A55D', 'D69Q', 'V71F', 'S54A', 'A55W', 'Y103F', 'S54A', 'S54A')\n",
    "scores = np.concatenate((np.array([-1.27, 0.57, -0.83, -0.21, -0.36]), np.array([0.38, 0.52]), np.array([-0.71]), np.array([0.45]), np.array([0.47])))\n",
    "antibodies = [\"Pertuzumab\"] * 5 + [\"Atezolizumab\"] * 2 + [\"Daratumuab\"] * 1 + [\"Omalizumab\"] * 1 + [\"Trastzumab\"] * 1\n",
    "\n",
    "d = {'Antibody': antibodies, 'Mutation': mutations, 'Score': scores}\n",
    "df = pd.DataFrame(data=d)"
   ]
  },
  {
   "cell_type": "code",
   "execution_count": 5,
   "metadata": {},
   "outputs": [
    {
     "data": {
      "image/png": "[encoded data removed]",
      "text/plain": [
       "<Figure size 1152x288 with 4 Axes>"
      ]
     },
     "metadata": {
      "needs_background": "light"
     },
     "output_type": "display_data"
    }
   ],
   "source": [
    "numFiles = len(files)\n",
    "fig, ax = plt.subplots(1, int(numFiles/2), constrained_layout=True, squeeze=True)\n",
    "fig.set_figheight(4)\n",
    "fig.set_figwidth(int(numFiles/2)*4)\n",
    "fileNum = 0\n",
    "\n",
    "for c in files: \n",
    "    fileNum += 1\n",
    "    section = c[0:-4]\n",
    "    name = 'results/' + section + '.xvg'\n",
    "    with open(name, 'r') as file:\n",
    "        title = \"\"\n",
    "        xyaxis_labels = list()\n",
    "        data_x = list()\n",
    "        data_y = list()\n",
    "\n",
    "        for line in file:\n",
    "            if line.find(\"@\") != -1:\n",
    "\n",
    "                # Extracts the title\n",
    "                if re.match(\"title\", line.split()[1]):\n",
    "                    title = line.split()[2].strip('\\\"')\n",
    "\n",
    "                # Extracts the legends for the axes\n",
    "                if len(line.split()) > 3:\n",
    "                    if re.match(\"label\", line.split()[2]):\n",
    "                        xyaxis_labels.append(line.split('\"')[1])\n",
    "\n",
    "            if not line.startswith(\"@\") and not line.startswith(\"#\"):\n",
    "                                  data_x.append(float(line.split()[0]))\n",
    "                                  data_y.append(float(line.split()[1]))\n",
    "\n",
    "    mutation = ''\n",
    "    val=c.index('_')\n",
    "    antibody = c[:val]\n",
    "    newC = c[val+1:]\n",
    "    val2=newC.index('_')\n",
    "    newC2 = newC[val2+1:]\n",
    "    if newC2[0:8] != 'npt_prod':\n",
    "        val3 = newC2.index('_')\n",
    "        mutation = c[val+1:val+val2+val3+1+1]\n",
    "    else:\n",
    "        mutation = c[val+1:val+val2+1]\n",
    "\n",
    "    if antibody == \"ate323\":\n",
    "        antibody = \"Atezolizumab\"\n",
    "        cVal = colors(2/6)\n",
    "        xC = 0\n",
    "        yC = 0\n",
    "    elif antibody == \"oma366\":\n",
    "        antibody = \"Omalizumab\"\n",
    "        cVal = colors(3/6)\n",
    "        xC = 0\n",
    "        yC = 1\n",
    "    elif antibody == \"per323\":\n",
    "        antibody = \"Pertuzumab\"\n",
    "        cVal = colors(4/6)\n",
    "        xC = 0\n",
    "        yC = 2\n",
    "    elif antibody == \"tra366\":\n",
    "        antibody = \"Trastzumab\"\n",
    "        cVal = colors(5/6)\n",
    "        xC = 0\n",
    "        yC = 3\n",
    "    elif antibody == \"dar323\":\n",
    "        antibody = \"Daratumuab\"\n",
    "        cVal = colors(5/12)\n",
    "        xC = 0\n",
    "        yC = 0\n",
    "        numFiles = 0\n",
    "\n",
    "    if \"_\" in mutation:\n",
    "        unscInd = mutation.index('_')\n",
    "        mutationFinal = mutation[:unscInd] + \" & \" + mutation[unscInd+1:]\n",
    "    elif mutation == \"control\":\n",
    "        mutationFinal = \"Control\"\n",
    "    else: \n",
    "        mutationFinal = mutation\n",
    "\n",
    "    name = antibody + \": \" + mutationFinal\n",
    "\n",
    "    if mutation == \"control\":\n",
    "        ax[yC].plot(data_x, data_y, color = 'k', linewidth = 2, alpha = 1 ,label = mutationFinal)\n",
    "    else: \n",
    "        ax[yC].plot(data_x, data_y, color = cVal, linewidth = 2, alpha = 1, label = mutationFinal, linestyle = '-')\n",
    "    ax[yC].set_ylim([0,1])\n",
    "    ax[yC].set_xlabel(\"Time [ns]\")\n",
    "    ax[yC].set_ylabel(\"Root Mean Square Deviation [nm]\")\n",
    "    ax[yC].legend(loc=\"upper left\")\n",
    "    ax[yC].set_xticks(np.arange(0,int(max(data_x))+20000,20000))\n",
    "    ax[yC].set_xticklabels(np.arange(0,int(max(data_x)/1000)+20,20), rotation=60)\n",
    "\n",
    "    ax[yC].set_title(antibody)\n",
    "    for x in range(len(df['Antibody'])):\n",
    "        if df.loc[x]['Antibody'] == antibody and df.loc[x]['Mutation'] == mutationFinal: \n",
    "            ddg = '$\\Delta$$\\Delta$G = ' + str(df.loc[x]['Score'])\n",
    "            #ax[yC].text(110000, 14, ddg, fontsize=15)\n",
    "\n",
    "# fig.show()\n",
    "#saveName = 'pictures/all' + \"_.jpg\"\n",
    "#plt.savefig(saveName)\n"
   ]
  },
  {
   "cell_type": "code",
   "execution_count": 6,
   "metadata": {},
   "outputs": [],
   "source": [
    "files = ['ate323_control_npt_prod_rmsd.xvg',\n",
    "'ate323_S54A_npt_prod_rmsd.xvg']"
   ]
  },
  {
   "cell_type": "code",
   "execution_count": 92,
   "metadata": {},
   "outputs": [],
   "source": [
    "files = ['oma366_control_npt_prod_rmsd.xvg',\n",
    "'oma366_S54A_npt_prod_rmsd.xvg']"
   ]
  },
  {
   "cell_type": "code",
   "execution_count": 89,
   "metadata": {},
   "outputs": [],
   "source": [
    "files = ['per323_control_npt_prod_rmsd.xvg',\n",
    "'per323_S54A_npt_prod_rmsd.xvg']"
   ]
  },
  {
   "cell_type": "code",
   "execution_count": 82,
   "metadata": {},
   "outputs": [],
   "source": [
    "files = ['tra366_control_npt_prod_rmsd.xvg','tra366_S54A_npt_prod_rmsd.xvg']"
   ]
  },
  {
   "cell_type": "code",
   "execution_count": 7,
   "metadata": {},
   "outputs": [],
   "source": [
    "files = ['dar323_control_npt_prod_rmsd.xvg',\n",
    "'dar323_Y103F_npt_prod_rmsd.xvg']"
   ]
  },
  {
   "cell_type": "code",
   "execution_count": 15,
   "metadata": {},
   "outputs": [
    {
     "data": {
      "image/png": "[encoded data removed]",
      "text/plain": [
       "<Figure size 576x144 with 1 Axes>"
      ]
     },
     "metadata": {
      "needs_background": "light"
     },
     "output_type": "display_data"
    }
   ],
   "source": [
    "numFiles = len(files)\n",
    "fig, ax = plt.subplots(1, int(numFiles/2), constrained_layout=True, squeeze=True)\n",
    "fig.set_figheight(2)\n",
    "fig.set_figwidth(8)\n",
    "fileNum = 0\n",
    "\n",
    "for c in files: \n",
    "    fileNum += 1\n",
    "    section = c[0:-4]\n",
    "    name = 'results/' + section + '_now.xvg'\n",
    "    with open(name, 'r') as file:\n",
    "        title = \"\"\n",
    "        xyaxis_labels = list()\n",
    "        data_x = list()\n",
    "        data_y = list()\n",
    "\n",
    "        for line in file:\n",
    "            if line.find(\"@\") != -1:\n",
    "\n",
    "                # Extracts the title\n",
    "                if re.match(\"title\", line.split()[1]):\n",
    "                    title = line.split()[2].strip('\\\"')\n",
    "\n",
    "                # Extracts the legends for the axes\n",
    "                if len(line.split()) > 3:\n",
    "                    if re.match(\"label\", line.split()[2]):\n",
    "                        xyaxis_labels.append(line.split('\"')[1])\n",
    "\n",
    "            if not line.startswith(\"@\") and not line.startswith(\"#\"):\n",
    "                                  data_x.append(float(line.split()[0]))\n",
    "                                  data_y.append(float(line.split()[1]))\n",
    "\n",
    "    mutation = ''\n",
    "    val=c.index('_')\n",
    "    antibody = c[:val]\n",
    "    newC = c[val+1:]\n",
    "    val2=newC.index('_')\n",
    "    newC2 = newC[val2+1:]\n",
    "    if newC2[0:8] != 'npt_prod':\n",
    "        val3 = newC2.index('_')\n",
    "        mutation = c[val+1:val+val2+val3+1+1]\n",
    "    else:\n",
    "        mutation = c[val+1:val+val2+1]\n",
    "\n",
    "    if antibody == \"ate323\":\n",
    "        antibody = \"Atezolizumab\"\n",
    "        cVal = '#5E8941'\n",
    "        xC = 0\n",
    "        yC = 0\n",
    "    elif antibody == \"oma366\":\n",
    "        antibody = \"Omalizumab\"\n",
    "        cVal = '#99B486'\n",
    "        xC = 0\n",
    "        yC = 1\n",
    "    elif antibody == \"per323\":\n",
    "        antibody = \"Pertuzumab\"\n",
    "        cVal = '#5E8941'\n",
    "        xC = 0\n",
    "        yC = 2\n",
    "    elif antibody == \"tra366\":\n",
    "        antibody = \"Trastzumab\"\n",
    "        cVal = '#99B486'\n",
    "        xC = 0\n",
    "        yC = 3\n",
    "    elif antibody == \"dar323\":\n",
    "        antibody = \"Daratumumab\"\n",
    "        cVal = '#5A873C'\n",
    "        xC = 0\n",
    "        yC = 0\n",
    "        numFiles = 0\n",
    "\n",
    "    if \"_\" in mutation:\n",
    "        unscInd = mutation.index('_')\n",
    "        mutationFinal = mutation[:unscInd] + \" & \" + mutation[unscInd+1:]\n",
    "    elif mutation == \"control\":\n",
    "        if antibody == \"Atezolizumab\":\n",
    "            mutationFinal = \"A54\"\n",
    "        if antibody == \"Daratumumab\":\n",
    "            mutationFinal = \"F103\"\n",
    "    else: \n",
    "        mutationFinal = mutation\n",
    "        if mutationFinal == \"S54A\":\n",
    "            mutationFinal = \"S54\"\n",
    "        if mutationFinal == \"Y103F\":\n",
    "            mutationFinal = \"Y103\"\n",
    "\n",
    "    name = antibody + \": \" + mutationFinal\n",
    "    n=10\n",
    "    if mutation == \"control\":\n",
    "        ax.plot(data_x[::n], data_y[::n], color = 'k', linewidth = 1, alpha = 1 ,label = mutationFinal,)\n",
    "    else: \n",
    "        ax.plot(data_x[::n], data_y[::n], color = cVal, linewidth = 1, alpha = 1, label = mutationFinal, linestyle = '-')\n",
    "    ax.set_ylim([0,0.32])\n",
    "    ax.set_xlabel(\"Simulation Time (ns)\")\n",
    "    ax.set_ylabel(\"RMSD (nm)\")\n",
    "    ax.legend(loc=\"lower left\",bbox_to_anchor=(0.1, 0),frameon=False,ncol=2)\n",
    "    #ax.set_xticks(np.arange(0,int(max(data_x))+20000,60000))\n",
    "    #ax.set_xticklabels(np.arange(0,int(max(data_x)/1000)+20,60))\n",
    "    ax.set_xticks([0,50000,100000,150000,200000,250000])\n",
    "    ax.set_xticklabels([0,50,100,150,200,250])\n",
    "    ax.set_xlim(-10000,290000)\n",
    "    #ax.set_title(antibody)\n",
    "    for x in range(len(df['Antibody'])):\n",
    "        if df.loc[x]['Antibody'] == antibody and df.loc[x]['Mutation'] == mutationFinal: \n",
    "            ddg = '$\\Delta$$\\Delta$G = ' + str(df.loc[x]['Score'])\n",
    "            #ax.text(110000, 14, ddg, fontsize=15)\n",
    "\n",
    "ymin, ymax = ax.get_ylim()\n",
    "xmin, xmax = ax.get_xlim()\n",
    "# ax.text(0-(xmax-xmin)/4, ymax+(ymax-ymin)/8, 'C', color='black')\n",
    "\n",
    "fig.savefig(\"plots2.pdf\",bbox_inches='tight')\n",
    "# fig.show()\n",
    "# saveName = 'pictures/all' + \"_.jpg\"\n",
    "# plt.savefig(saveName)\n"
   ]
  },
  {
   "cell_type": "code",
   "execution_count": 24,
   "metadata": {},
   "outputs": [
    {
     "name": "stderr",
     "output_type": "stream",
     "text": [
      "<ipython-input-24-bc9695aeb779>:6: UserWarning: constrained_layout not applied.  At least one axes collapsed to zero width or height.\n",
      "  fig.savefig(\"name.pdf\",bbox_inches='tight')\n",
      "/Users/emilyrhodes/opt/anaconda3/lib/python3.8/site-packages/IPython/core/pylabtools.py:132: UserWarning: constrained_layout not applied.  At least one axes collapsed to zero width or height.\n",
      "  fig.canvas.print_figure(bytes_io, **kw)\n"
     ]
    },
    {
     "data": {
      "image/png": "[encoded data removed]",
      "text/plain": [
       "<Figure size 72x7.2 with 1 Axes>"
      ]
     },
     "metadata": {
      "needs_background": "light"
     },
     "output_type": "display_data"
    }
   ],
   "source": [
    "fig, ax = plt.subplots(1, 1, constrained_layout=True, squeeze=True)\n",
    "fig.set_figheight(0.1)\n",
    "fig.set_figwidth(1)\n",
    "ax.text(0,1,antibody)\n",
    "plt.axis('off')\n",
    "fig.savefig(\"name.pdf\",bbox_inches='tight')"
   ]
  },
  {
   "cell_type": "code",
   "execution_count": null,
   "metadata": {},
   "outputs": [],
   "source": []
  },
  {
   "cell_type": "code",
   "execution_count": null,
   "metadata": {},
   "outputs": [],
   "source": []
  },
  {
   "cell_type": "code",
   "execution_count": null,
   "metadata": {},
   "outputs": [],
   "source": []
  },
  {
   "cell_type": "code",
   "execution_count": null,
   "metadata": {},
   "outputs": [],
   "source": []
  },
  {
   "cell_type": "code",
   "execution_count": null,
   "metadata": {},
   "outputs": [],
   "source": []
  },
  {
   "cell_type": "code",
   "execution_count": null,
   "metadata": {},
   "outputs": [],
   "source": []
  },
  {
   "cell_type": "code",
   "execution_count": null,
   "metadata": {},
   "outputs": [],
   "source": []
  },
  {
   "cell_type": "code",
   "execution_count": null,
   "metadata": {},
   "outputs": [],
   "source": []
  }
 ],
 "metadata": {
  "kernelspec": {
   "display_name": "Python 3",
   "language": "python",
   "name": "python3"
  },
  "language_info": {
   "codemirror_mode": {
    "name": "ipython",
    "version": 3
   },
   "file_extension": ".py",
   "mimetype": "text/x-python",
   "name": "python",
   "nbconvert_exporter": "python",
   "pygments_lexer": "ipython3",
   "version": "3.8.5"
  }
 },
 "nbformat": 4,
 "nbformat_minor": 4
}
