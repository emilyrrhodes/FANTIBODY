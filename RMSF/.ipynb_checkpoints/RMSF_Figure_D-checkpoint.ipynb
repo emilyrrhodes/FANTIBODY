{
 "cells": [
  {
   "cell_type": "code",
   "execution_count": 1,
   "metadata": {},
   "outputs": [
    {
     "name": "stderr",
     "output_type": "stream",
     "text": [
      "<ipython-input-1-dfe8acc9d3f0>:6: MatplotlibDeprecationWarning: \n",
      "The mpl_toolkits.axes_grid module was deprecated in Matplotlib 2.1 and will be removed two minor releases later. Use mpl_toolkits.axes_grid1 and mpl_toolkits.axisartist, which provide the same functionality instead.\n",
      "  from mpl_toolkits.axes_grid.inset_locator import inset_axes\n"
     ]
    }
   ],
   "source": [
    "import matplotlib.pyplot as plt\n",
    "from matplotlib import cm\n",
    "import re\n",
    "import numpy as np\n",
    "import pandas as pd\n",
    "from mpl_toolkits.axes_grid.inset_locator import inset_axes"
   ]
  },
  {
   "cell_type": "code",
   "execution_count": null,
   "metadata": {},
   "outputs": [],
   "source": []
  },
  {
   "cell_type": "code",
   "execution_count": null,
   "metadata": {},
   "outputs": [],
   "source": []
  },
  {
   "cell_type": "code",
   "execution_count": null,
   "metadata": {},
   "outputs": [],
   "source": []
  },
  {
   "cell_type": "code",
   "execution_count": 6,
   "metadata": {},
   "outputs": [],
   "source": [
    "files = ['ate323_control_npt_prod_rmsf.xvg',\n",
    "'ate323_S54A_npt_prod_rmsf.xvg',\n",
    "'oma366_control_npt_prod_rmsf.xvg',\n",
    "'oma366_S54A_npt_prod_rmsf.xvg',\n",
    "'per323_control_npt_prod_rmsf.xvg',\n",
    "'per323_S54A_npt_prod_rmsf.xvg',\n",
    "'tra366_S54A_npt_prod_rmsf.xvg',\n",
    "'tra366_control_npt_prod_rmsf.xvg']"
   ]
  },
  {
   "cell_type": "code",
   "execution_count": 7,
   "metadata": {},
   "outputs": [],
   "source": [
    "colors = cm.get_cmap('magma', 12)"
   ]
  },
  {
   "cell_type": "code",
   "execution_count": 8,
   "metadata": {},
   "outputs": [],
   "source": [
    "#Raw data\n",
    "mutations = ('S40D', 'S54A', 'A55D', 'D69Q', 'V71F', 'S54A', 'A55W', 'Y103F', 'S54A', 'S54A')\n",
    "scores = np.concatenate((np.array([-1.27, 0.57, -0.83, -0.21, -0.36]), np.array([0.38, 0.52]), np.array([-0.71]), np.array([0.45]), np.array([0.47])))\n",
    "antibodies = [\"Pertuzumab\"] * 5 + [\"Atezolizumab\"] * 2 + [\"Daratumuab\"] * 1 + [\"Omalizumab\"] * 1 + [\"Trastzumab\"] * 1\n",
    "\n",
    "d = {'Antibody': antibodies, 'Mutation': mutations, 'Score': scores}\n",
    "df = pd.DataFrame(data=d)"
   ]
  },
  {
   "cell_type": "code",
   "execution_count": 9,
   "metadata": {},
   "outputs": [
    {
     "ename": "FileNotFoundError",
     "evalue": "[Errno 2] No such file or directory: 'results/ate323_control_npt_prod_rmsf_now.xvg'",
     "output_type": "error",
     "traceback": [
      "\u001b[0;31m---------------------------------------------------------------------------\u001b[0m",
      "\u001b[0;31mFileNotFoundError\u001b[0m                         Traceback (most recent call last)",
      "\u001b[0;32m<ipython-input-9-c245957f31d0>\u001b[0m in \u001b[0;36m<module>\u001b[0;34m\u001b[0m\n\u001b[1;32m      9\u001b[0m     \u001b[0msection\u001b[0m \u001b[0;34m=\u001b[0m \u001b[0mc\u001b[0m\u001b[0;34m[\u001b[0m\u001b[0;36m0\u001b[0m\u001b[0;34m:\u001b[0m\u001b[0;34m-\u001b[0m\u001b[0;36m4\u001b[0m\u001b[0;34m]\u001b[0m\u001b[0;34m\u001b[0m\u001b[0;34m\u001b[0m\u001b[0m\n\u001b[1;32m     10\u001b[0m     \u001b[0mname\u001b[0m \u001b[0;34m=\u001b[0m \u001b[0;34m'results/'\u001b[0m \u001b[0;34m+\u001b[0m \u001b[0msection\u001b[0m \u001b[0;34m+\u001b[0m \u001b[0;34m'_now.xvg'\u001b[0m\u001b[0;34m\u001b[0m\u001b[0;34m\u001b[0m\u001b[0m\n\u001b[0;32m---> 11\u001b[0;31m     \u001b[0;32mwith\u001b[0m \u001b[0mopen\u001b[0m\u001b[0;34m(\u001b[0m\u001b[0mname\u001b[0m\u001b[0;34m,\u001b[0m \u001b[0;34m'r'\u001b[0m\u001b[0;34m)\u001b[0m \u001b[0;32mas\u001b[0m \u001b[0mfile\u001b[0m\u001b[0;34m:\u001b[0m\u001b[0;34m\u001b[0m\u001b[0;34m\u001b[0m\u001b[0m\n\u001b[0m\u001b[1;32m     12\u001b[0m         \u001b[0mtitle\u001b[0m \u001b[0;34m=\u001b[0m \u001b[0;34m\"\"\u001b[0m\u001b[0;34m\u001b[0m\u001b[0;34m\u001b[0m\u001b[0m\n\u001b[1;32m     13\u001b[0m         \u001b[0mxyaxis_labels\u001b[0m \u001b[0;34m=\u001b[0m \u001b[0mlist\u001b[0m\u001b[0;34m(\u001b[0m\u001b[0;34m)\u001b[0m\u001b[0;34m\u001b[0m\u001b[0;34m\u001b[0m\u001b[0m\n",
      "\u001b[0;31mFileNotFoundError\u001b[0m: [Errno 2] No such file or directory: 'results/ate323_control_npt_prod_rmsf_now.xvg'"
     ]
    },
    {
     "data": {
      "image/png": "[encoded data removed]",
      "text/plain": [
       "<Figure size 1152x288 with 4 Axes>"
      ]
     },
     "metadata": {
      "needs_background": "light"
     },
     "output_type": "display_data"
    }
   ],
   "source": [
    "numFiles = len(files)\n",
    "fig, ax = plt.subplots(1, int(numFiles/2), constrained_layout=True, squeeze=True)\n",
    "fig.set_figheight(4)\n",
    "fig.set_figwidth(int(numFiles/2)*4)\n",
    "fileNum = 0\n",
    "\n",
    "for c in files: \n",
    "    fileNum += 1\n",
    "    section = c[0:-4]\n",
    "    name = 'results/' + section + '_now.xvg'\n",
    "    with open(name, 'r') as file:\n",
    "        title = \"\"\n",
    "        xyaxis_labels = list()\n",
    "        data_x = list()\n",
    "        data_y = list()\n",
    "\n",
    "        for line in file:\n",
    "            if line.find(\"@\") != -1:\n",
    "\n",
    "                # Extracts the title\n",
    "                if re.match(\"title\", line.split()[1]):\n",
    "                    title = line.split()[2].strip('\\\"')\n",
    "\n",
    "                # Extracts the legends for the axes\n",
    "                if len(line.split()) > 3:\n",
    "                    if re.match(\"label\", line.split()[2]):\n",
    "                        xyaxis_labels.append(line.split('\"')[1])\n",
    "\n",
    "            if not line.startswith(\"@\") and not line.startswith(\"#\"):\n",
    "                                  data_x.append(float(line.split()[0]))\n",
    "                                  data_y.append(float(line.split()[1]))\n",
    "\n",
    "    mutation = ''\n",
    "    val=c.index('_')\n",
    "    antibody = c[:val]\n",
    "    newC = c[val+1:]\n",
    "    val2=newC.index('_')\n",
    "    newC2 = newC[val2+1:]\n",
    "    if newC2[0:8] != 'npt_prod':\n",
    "        val3 = newC2.index('_')\n",
    "        mutation = c[val+1:val+val2+val3+1+1]\n",
    "    else:\n",
    "        mutation = c[val+1:val+val2+1]\n",
    "\n",
    "    if antibody == \"ate323\":\n",
    "        antibody = \"Atezolizumab\"\n",
    "        cVal = colors(2/6)\n",
    "        xC = 0\n",
    "        yC = 0\n",
    "    elif antibody == \"oma366\":\n",
    "        antibody = \"Omalizumab\"\n",
    "        cVal = colors(3/6)\n",
    "        xC = 0\n",
    "        yC = 1\n",
    "    elif antibody == \"per323\":\n",
    "        antibody = \"Pertuzumab\"\n",
    "        cVal = colors(4/6)\n",
    "        xC = 0\n",
    "        yC = 2\n",
    "    elif antibody == \"tra366\":\n",
    "        antibody = \"Trastzumab\"\n",
    "        cVal = colors(5/6)\n",
    "        xC = 0\n",
    "        yC = 3\n",
    "    elif antibody == \"dar323\":\n",
    "        antibody = \"Daratumuab\"\n",
    "        cVal = colors(5/12)\n",
    "        xC = 0\n",
    "        yC = 0\n",
    "        numFiles = 0\n",
    "\n",
    "    if \"_\" in mutation:\n",
    "        unscInd = mutation.index('_')\n",
    "        mutationFinal = mutation[:unscInd] + \" & \" + mutation[unscInd+1:]\n",
    "    elif mutation == \"control\":\n",
    "        mutationFinal = \"Control\"\n",
    "    else: \n",
    "        mutationFinal = mutation\n",
    "\n",
    "    name = antibody + \": \" + mutationFinal\n",
    "\n",
    "    if mutation == \"control\":\n",
    "        ax[yC].plot(data_x, data_y, color = 'k', linewidth = 2, alpha = 1 ,label = mutationFinal)\n",
    "    else: \n",
    "        ax[yC].plot(data_x, data_y, color = cVal, linewidth = 2, alpha = 1, label = mutationFinal, linestyle = '-')\n",
    "    ax[yC].set_ylim([0,16])\n",
    "    ax[yC].set_xlabel(\"Time [ns]\")\n",
    "    ax[yC].set_ylabel(\"Root Mean Square Deviation [nm]\")\n",
    "    ax[yC].legend(loc=\"upper left\")\n",
    "    ax[yC].set_xticks(np.arange(0,int(max(data_x))+20000,20000))\n",
    "    ax[yC].set_xticklabels(np.arange(0,int(max(data_x)/1000)+20,20), rotation=60)\n",
    "\n",
    "    ax[yC].set_title(antibody)\n",
    "    for x in range(len(df['Antibody'])):\n",
    "        if df.loc[x]['Antibody'] == antibody and df.loc[x]['Mutation'] == mutationFinal: \n",
    "            ddg = '$\\Delta$$\\Delta$G = ' + str(df.loc[x]['Score'])\n",
    "            ax[yC].text(110000, 14, ddg, fontsize=15)\n",
    "\n",
    "fig.show()\n",
    "saveName = 'pictures/all' + \"_.jpg\"\n",
    "plt.savefig(saveName)\n"
   ]
  },
  {
   "cell_type": "code",
   "execution_count": 15,
   "metadata": {},
   "outputs": [
    {
     "data": {
      "text/plain": [
       "200000.0"
      ]
     },
     "execution_count": 15,
     "metadata": {},
     "output_type": "execute_result"
    }
   ],
   "source": [
    "max(data_x)"
   ]
  },
  {
   "cell_type": "code",
   "execution_count": 14,
   "metadata": {},
   "outputs": [
    {
     "data": {
      "text/plain": [
       "10001"
      ]
     },
     "execution_count": 14,
     "metadata": {},
     "output_type": "execute_result"
    }
   ],
   "source": [
    "len(data_y)"
   ]
  },
  {
   "cell_type": "code",
   "execution_count": null,
   "metadata": {},
   "outputs": [],
   "source": []
  }
 ],
 "metadata": {
  "kernelspec": {
   "display_name": "Python 3",
   "language": "python",
   "name": "python3"
  },
  "language_info": {
   "codemirror_mode": {
    "name": "ipython",
    "version": 3
   },
   "file_extension": ".py",
   "mimetype": "text/x-python",
   "name": "python",
   "nbconvert_exporter": "python",
   "pygments_lexer": "ipython3",
   "version": "3.8.5"
  }
 },
 "nbformat": 4,
 "nbformat_minor": 4
}
