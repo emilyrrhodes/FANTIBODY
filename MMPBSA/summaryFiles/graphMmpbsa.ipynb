{
 "cells": [
  {
   "cell_type": "code",
   "execution_count": 1,
   "metadata": {},
   "outputs": [],
   "source": [
    "import matplotlib.pyplot as plt\n",
    "import re"
   ]
  },
  {
   "cell_type": "code",
   "execution_count": 2,
   "metadata": {},
   "outputs": [],
   "source": [
    "filename = ['ate323_A55W_mmpbsa_sum.dat', \n",
    "            'ate323_control_mmpbsa_sum.dat', \n",
    "            'ate323_S54A_A55W_mmpbsa_sum.dat', \n",
    "            'ate323_S54A_mmpbsa_sum.dat']"
   ]
  },
  {
   "cell_type": "code",
   "execution_count": 3,
   "metadata": {},
   "outputs": [
    {
     "ename": "IndexError",
     "evalue": "list index out of range",
     "output_type": "error",
     "traceback": [
      "\u001b[0;31m---------------------------------------------------------------------------\u001b[0m",
      "\u001b[0;31mIndexError\u001b[0m                                Traceback (most recent call last)",
      "\u001b[0;32m<ipython-input-3-58934f0b11f2>\u001b[0m in \u001b[0;36m<module>\u001b[0;34m\u001b[0m\n\u001b[1;32m     19\u001b[0m \u001b[0;34m\u001b[0m\u001b[0m\n\u001b[1;32m     20\u001b[0m             \u001b[0;32mif\u001b[0m \u001b[0;32mnot\u001b[0m \u001b[0mline\u001b[0m\u001b[0;34m.\u001b[0m\u001b[0mstartswith\u001b[0m\u001b[0;34m(\u001b[0m\u001b[0;34m\"@\"\u001b[0m\u001b[0;34m)\u001b[0m \u001b[0;32mand\u001b[0m \u001b[0;32mnot\u001b[0m \u001b[0mline\u001b[0m\u001b[0;34m.\u001b[0m\u001b[0mstartswith\u001b[0m\u001b[0;34m(\u001b[0m\u001b[0;34m\"#\"\u001b[0m\u001b[0;34m)\u001b[0m\u001b[0;34m:\u001b[0m\u001b[0;34m\u001b[0m\u001b[0;34m\u001b[0m\u001b[0m\n\u001b[0;32m---> 21\u001b[0;31m                                   \u001b[0mdata_x\u001b[0m\u001b[0;34m.\u001b[0m\u001b[0mappend\u001b[0m\u001b[0;34m(\u001b[0m\u001b[0mfloat\u001b[0m\u001b[0;34m(\u001b[0m\u001b[0mline\u001b[0m\u001b[0;34m.\u001b[0m\u001b[0msplit\u001b[0m\u001b[0;34m(\u001b[0m\u001b[0;34m)\u001b[0m\u001b[0;34m[\u001b[0m\u001b[0;36m0\u001b[0m\u001b[0;34m]\u001b[0m\u001b[0;34m)\u001b[0m\u001b[0;34m)\u001b[0m\u001b[0;34m\u001b[0m\u001b[0;34m\u001b[0m\u001b[0m\n\u001b[0m\u001b[1;32m     22\u001b[0m                                   \u001b[0mdata_y\u001b[0m\u001b[0;34m.\u001b[0m\u001b[0mappend\u001b[0m\u001b[0;34m(\u001b[0m\u001b[0mfloat\u001b[0m\u001b[0;34m(\u001b[0m\u001b[0mline\u001b[0m\u001b[0;34m.\u001b[0m\u001b[0msplit\u001b[0m\u001b[0;34m(\u001b[0m\u001b[0;34m)\u001b[0m\u001b[0;34m[\u001b[0m\u001b[0;36m1\u001b[0m\u001b[0;34m]\u001b[0m\u001b[0;34m)\u001b[0m\u001b[0;34m)\u001b[0m\u001b[0;34m\u001b[0m\u001b[0;34m\u001b[0m\u001b[0m\n\u001b[1;32m     23\u001b[0m \u001b[0;34m\u001b[0m\u001b[0m\n",
      "\u001b[0;31mIndexError\u001b[0m: list index out of range"
     ]
    }
   ],
   "source": [
    "for c in filename: \n",
    "    with open(c, 'r') as file:\n",
    "        title = \"\"\n",
    "        xyaxis_labels = list()\n",
    "        data_x = list()\n",
    "        data_y = list()\n",
    "\n",
    "        for line in file:\n",
    "            if line.find(\"@\") != -1:\n",
    "\n",
    "                # Extracts the title\n",
    "                if re.match(\"title\", line.split()[1]):\n",
    "                    title = line.split()[2].strip('\\\"')\n",
    "\n",
    "                # Extracts the legends for the axes\n",
    "                if len(line.split()) > 3:\n",
    "                    if re.match(\"label\", line.split()[2]):\n",
    "                        xyaxis_labels.append(line.split('\"')[1])\n",
    "\n",
    "            if not line.startswith(\"@\") and not line.startswith(\"#\"):\n",
    "                                  data_x.append(float(line.split()[0]))\n",
    "                                  data_y.append(float(line.split()[1]))\n",
    "                        \n",
    "    fig, ax = plt.subplots(1, 1, constrained_layout=True)\n",
    "    ax.plot(data_x, data_y)\n",
    "    ax.set_ylim([0,14])\n",
    "    ax.set_xlabel(\"Time [ps]\")\n",
    "    ax.set_ylabel(\"Root Mean Square Deviation [nm]\")\n",
    "    \n",
    "    val=c.index('_')\n",
    "    antibody = c[:val]\n",
    "    newC = c[val+1:]\n",
    "    val2=newC.index('_')\n",
    "    newC2 = newC[val2+1:]\n",
    "    if newC2[0:8] != 'npt_prod':\n",
    "        val3 = newC2.index('_')\n",
    "        mutation = c[val+1:val+val2+val3+1]\n",
    "    else:\n",
    "        mutation = c[val+1:val+val2+1]\n",
    "    \n",
    "    title = antibody + \": \" + mutation\n",
    "    \n",
    "    ax.set_title(title)\n",
    "    fig.show()\n",
    "    \n",
    "    #print(c[0:-4] + \".jpg\")\n",
    "    saveName = c[0:-4] + \".jpg\"\n",
    "    \n",
    "    plt.savefig(saveName)\n"
   ]
  },
  {
   "cell_type": "code",
   "execution_count": null,
   "metadata": {},
   "outputs": [],
   "source": []
  }
 ],
 "metadata": {
  "kernelspec": {
   "display_name": "Python 3",
   "language": "python",
   "name": "python3"
  },
  "language_info": {
   "codemirror_mode": {
    "name": "ipython",
    "version": 3
   },
   "file_extension": ".py",
   "mimetype": "text/x-python",
   "name": "python",
   "nbconvert_exporter": "python",
   "pygments_lexer": "ipython3",
   "version": "3.8.5"
  }
 },
 "nbformat": 4,
 "nbformat_minor": 4
}
